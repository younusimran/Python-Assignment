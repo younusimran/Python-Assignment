{
 "cells": [
  {
   "cell_type": "markdown",
   "metadata": {},
   "source": [
    "# Question 1"
   ]
  },
  {
   "cell_type": "code",
   "execution_count": 7,
   "metadata": {},
   "outputs": [
    {
     "name": "stdout",
     "output_type": "stream",
     "text": [
      "f_name : Imran\n",
      "l_name : Younus\n",
      "age : 40\n",
      "city : Karachi\n",
      "------ revised dictionary with addition of qualification -------\n",
      "f_name : Imran\n",
      "l_name : Younus\n",
      "age : 40\n",
      "city : Karachi\n",
      "qualification : B.Com\n",
      "------ revised dictionary after updating qualification -------\n",
      "f_name : Imran\n",
      "l_name : Younus\n",
      "age : 40\n",
      "city : Karachi\n",
      "qualification : M.Com\n",
      "------ revised dictionary after removal of qualification -------\n",
      "f_name : Imran\n",
      "l_name : Younus\n",
      "age : 40\n",
      "city : Karachi\n"
     ]
    }
   ],
   "source": [
    "def dict_print(dict):\n",
    "    for k,v in dict.items():\n",
    "        print(k,\":\",v)\n",
    "        \n",
    "person = {\n",
    "    \"f_name\":\"Imran\",\n",
    "    \"l_name\":\"Younus\",\n",
    "    \"age\":40,\"city\":\"Karachi\"\n",
    "}\n",
    "dict_print(person)\n",
    "person[\"qualification\"] = \"B.Com\"\n",
    "print(\"------ revised dictionary with addition of qualification -------\")\n",
    "dict_print(person)\n",
    "person[\"qualification\"] = \"M.Com\"\n",
    "print(\"------ revised dictionary after updating qualification -------\")\n",
    "dict_print(person)\n",
    "del person[\"qualification\"]\n",
    "print(\"------ revised dictionary after removal of qualification -------\")\n",
    "dict_print(person)\n",
    "#Alternative approach\n",
    "#person.update({\"qualification\":\"B.Com\"})\n",
    "#dict_print(person)\n",
    "#person.update({\"qualification\":\"M.Com\"})\n",
    "#dict_print(person)\n",
    "#person.pop(\"qualification\", None)\n",
    "#dict_print(person)"
   ]
  },
  {
   "cell_type": "markdown",
   "metadata": {},
   "source": [
    "# Question 2"
   ]
  },
  {
   "cell_type": "code",
   "execution_count": 15,
   "metadata": {},
   "outputs": [
    {
     "name": "stdout",
     "output_type": "stream",
     "text": [
      "1 : Karachi\n",
      "\t Country : Pakistan\n",
      "\t Population : 15,741,000\n",
      "\t Fact : Business hub of Pakistan\n",
      "2 : Bangkok\n",
      "\t Country : Thailand\n",
      "\t Population : 10,350,204\n",
      "\t Fact : Home to Red Bull\n",
      "3 : Paris\n",
      "\t Country : France\n",
      "\t Population : 2,140,526\n",
      "\t Fact : City of Light or City of Love\n"
     ]
    }
   ],
   "source": [
    "cities = {\n",
    "    \"Karachi\":{\n",
    "        \"Country\":\"Pakistan\", \"Population\":\"15,741,000\",\"Fact\":\"Business hub of Pakistan\"\n",
    "    },\n",
    "    \"Bangkok\":{\n",
    "        \"Country\":\"Thailand\", \"Population\":\"10,350,204\",\"Fact\":\"Home to Red Bull\"\n",
    "    },\n",
    "    \"Paris\":{\n",
    "        \"Country\":\"France\", \"Population\":\"2,140,526\",\"Fact\":\"City of Light or City of Love\"\n",
    "    }\n",
    "}\n",
    "n=1\n",
    "for k in cities.keys():\n",
    "    print(n,\":\",k)\n",
    "    for s in cities[k]:\n",
    "        print(\"\\t\",s,\":\",cities[k][s])\n",
    "    n += 1"
   ]
  },
  {
   "cell_type": "markdown",
   "metadata": {},
   "source": [
    "# Question 3"
   ]
  },
  {
   "cell_type": "code",
   "execution_count": 35,
   "metadata": {},
   "outputs": [
    {
     "name": "stdout",
     "output_type": "stream",
     "text": [
      "Please provide the number of person below age 3:0\n",
      "Please provide the number of person between age 3 to 12:0\n",
      "Please provide the number of person above age 12:12\n",
      "Welcome to Movie Theater.....\n",
      "Total person for the movie are: 12\n",
      "Total cost for 12 is 144\n",
      "Note: ticket for person under age 3 is free of cost. Total person under age 3: 0\n"
     ]
    }
   ],
   "source": [
    "dict={\"below age 3\":0, \"between age 3 to 12\":0, \"above age 12\":0}\n",
    "for k in dict.keys():\n",
    "    val = input(\"Please provide the number of person \"+k+\":\")\n",
    "    dict[k]=int(val)\n",
    "cost = (dict[\"between age 3 to 12\"] * 10) + (dict[\"above age 12\"] * 12)\n",
    "head_count = 0\n",
    "for k in dict.keys():\n",
    "    head_count += dict[k]\n",
    "print(\"Welcome to Movie Theater.....\")\n",
    "print(\"Total person for the movie are:\", head_count)\n",
    "print(\"Total cost for \" + str(head_count - dict[\"below age 3\"]) + \" is \" + str(cost))\n",
    "print(\"Note: ticket for person under age 3 is free of cost. Total person under age 3: \" + str(dict[\"below age 3\"]))\n",
    "\n",
    "#Alternate: if loop can be used to check the cost by obtaining input for age and input for number of person"
   ]
  },
  {
   "cell_type": "markdown",
   "metadata": {},
   "source": [
    "# Question 4"
   ]
  },
  {
   "cell_type": "code",
   "execution_count": 25,
   "metadata": {},
   "outputs": [
    {
     "name": "stdout",
     "output_type": "stream",
     "text": [
      "One of my favourite book is Alice in Wonderland\n"
     ]
    }
   ],
   "source": [
    "def favourite_book(title):\n",
    "    print(\"One of my favourite book is\", title)\n",
    "\n",
    "favourite_book(\"Alice in Wonderland\")"
   ]
  },
  {
   "cell_type": "markdown",
   "metadata": {},
   "source": [
    "# Question 5"
   ]
  },
  {
   "cell_type": "code",
   "execution_count": 33,
   "metadata": {},
   "outputs": [
    {
     "name": "stdout",
     "output_type": "stream",
     "text": [
      "Enter the number between 1 to 30 to guess secret number: 12\n",
      "The number you entered is lower than the secret number\n",
      "2 turn left\n",
      "Enter the number between 1 to 30 to guess secret number: 16\n",
      "The number you entered is lower than the secret number\n",
      "1 turn left\n",
      "Enter the number between 1 to 30 to guess secret number: 29\n",
      "The number you entered is higher than the secret number\n",
      "Sorry you exhausted the number of tries to guess\n"
     ]
    }
   ],
   "source": [
    "from random import randint\n",
    "num = randint(1,30)\n",
    "count = 2\n",
    "while count >= 0:\n",
    "    guess = int(input(\"Enter the number between 1 to 30 to guess secret number: \"))\n",
    "    count -= 1\n",
    "    if guess == num:\n",
    "        print(\"Bingo you got a secret number....congratulations!\")\n",
    "        break\n",
    "    elif guess < num:\n",
    "        print(\"The number you entered is lower than the secret number\")\n",
    "    else:\n",
    "        print(\"The number you entered is higher than the secret number\")\n",
    "    if count < 0:\n",
    "        print(\"Sorry you exhausted the number of tries to guess\")\n",
    "    else:\n",
    "        print(str(count+1) + \" turn left\")"
   ]
  }
 ],
 "metadata": {
  "kernelspec": {
   "display_name": "Python 3",
   "language": "python",
   "name": "python3"
  },
  "language_info": {
   "codemirror_mode": {
    "name": "ipython",
    "version": 3
   },
   "file_extension": ".py",
   "mimetype": "text/x-python",
   "name": "python",
   "nbconvert_exporter": "python",
   "pygments_lexer": "ipython3",
   "version": "3.7.4"
  }
 },
 "nbformat": 4,
 "nbformat_minor": 2
}
