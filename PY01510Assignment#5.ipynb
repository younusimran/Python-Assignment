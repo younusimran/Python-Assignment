{
 "cells": [
  {
   "cell_type": "markdown",
   "metadata": {},
   "source": [
    "# Question 1"
   ]
  },
  {
   "cell_type": "code",
   "execution_count": 32,
   "metadata": {},
   "outputs": [
    {
     "name": "stdout",
     "output_type": "stream",
     "text": [
      "Enter positive integer to calculate factorial:13\n",
      "Factorial of 13 is 6,227,020,800\n"
     ]
    }
   ],
   "source": [
    "def factorial(num):\n",
    "    product = 1\n",
    "    for i in range(num,0,-1):\n",
    "        product *= i\n",
    "    return product\n",
    "\n",
    "#factorial recursive function\n",
    "#def rec_factorial(num):\n",
    "#    if num == 1:\n",
    "#        return 1\n",
    "#    else:\n",
    "#        return num * factorial(num-1)\n",
    "    \n",
    "try:\n",
    "    num = int(input(\"Enter positive integer to calculate factorial:\"))\n",
    "    if num == 0:\n",
    "        print(\"Factorial of {} is {:,}\".format(num,1))\n",
    "    elif num < 0:\n",
    "        print(\"Please enter only positive integer\")\n",
    "    else:\n",
    "        print(\"Factorial of {} is {:,}\".format(num,factorial(num)))\n",
    "except:\n",
    "    print(\"You have entered invalid input\")"
   ]
  },
  {
   "cell_type": "markdown",
   "metadata": {},
   "source": [
    "# Question 2"
   ]
  },
  {
   "cell_type": "code",
   "execution_count": 33,
   "metadata": {},
   "outputs": [
    {
     "name": "stdout",
     "output_type": "stream",
     "text": [
      "Enter word or sentence to count upper and lower case letters: Today was Cold weather\n",
      "Upper case letters count = 2 and lower case letters count  = 17\n"
     ]
    }
   ],
   "source": [
    "def count_letters(data):\n",
    "    count_lower = 0\n",
    "    count_upper = 0\n",
    "    for d in data:\n",
    "        if d.islower():\n",
    "            count_lower += 1\n",
    "        elif d.isupper():\n",
    "            count_upper += 1\n",
    "    return [count_lower, count_upper]\n",
    "\n",
    "data  = input(\"Enter word or sentence to count upper and lower case letters: \")\n",
    "result = count_letters(data)\n",
    "print(\"Upper case letters count = {:,} and lower case letters count  = {:,}\".format(result[1],result[0]))"
   ]
  },
  {
   "cell_type": "markdown",
   "metadata": {},
   "source": [
    "# Question 3"
   ]
  },
  {
   "cell_type": "code",
   "execution_count": 34,
   "metadata": {},
   "outputs": [
    {
     "name": "stdout",
     "output_type": "stream",
     "text": [
      "0 is even number\n",
      "2 is even number\n",
      "4 is even number\n",
      "6 is even number\n",
      "8 is even number\n",
      "88 is even number\n",
      "56 is even number\n",
      "14 is even number\n",
      "26 is even number\n",
      "30 is even number\n",
      "38 is even number\n",
      "44 is even number\n"
     ]
    }
   ],
   "source": [
    "def even_num(num_list):\n",
    "    for i in num_list:\n",
    "        if i == 0 or (i % 2 == 0):\n",
    "            print(\"{} is even number\".format(i))\n",
    "\n",
    "num_list = [0,1,2,3,4,5,6,47,8,88,99,56,14,25,26,27,30,35,38,44]\n",
    "even_num(num_list)"
   ]
  },
  {
   "cell_type": "markdown",
   "metadata": {},
   "source": [
    "# Question 4"
   ]
  },
  {
   "cell_type": "code",
   "execution_count": 36,
   "metadata": {},
   "outputs": [
    {
     "name": "stdout",
     "output_type": "stream",
     "text": [
      "Enter the word, phrase or sequence to check if it is palindrome: level\n",
      "level is palindrome\n"
     ]
    }
   ],
   "source": [
    "def palindrome(data):\n",
    "    l_data = list(data)\n",
    "    rl_data = l_data.copy()\n",
    "    rl_data.reverse()\n",
    "    if l_data == rl_data:\n",
    "        print(\"{} is palindrome\".format(data))\n",
    "    else:\n",
    "        print(\"{} is not palindrom\".format(data))\n",
    "\n",
    "#Alternative\n",
    "def palindrome2(data):\n",
    "    rev=\"\".join(reversed(data))\n",
    "    if rev == data:\n",
    "        print(\"{} is palindrome\".format(data))\n",
    "    else:\n",
    "        print(\"{} is not palindrom\".format(data))\n",
    "        \n",
    "data = input(\"Enter the word, phrase or sequence to check if it is palindrome: \")\n",
    "palindrome2(data.lower())"
   ]
  },
  {
   "cell_type": "markdown",
   "metadata": {},
   "source": [
    "# Question 5"
   ]
  },
  {
   "cell_type": "code",
   "execution_count": 38,
   "metadata": {},
   "outputs": [
    {
     "name": "stdout",
     "output_type": "stream",
     "text": [
      "Enter a number greater than one to check if it is prime number: 89\n",
      "89 is a prime number\n"
     ]
    }
   ],
   "source": [
    "def check_prime(num):\n",
    "    for i in range(2,num):\n",
    "        if num % i == 0:\n",
    "            status = False\n",
    "            break\n",
    "        else:\n",
    "            status = True\n",
    "    return status\n",
    "\n",
    "try:\n",
    "    num = int(input(\"Enter a number greater than one to check if it is prime number: \"))\n",
    "    if num > 1:\n",
    "        result = check_prime(num)\n",
    "        if result:\n",
    "            print(\"{} is a prime number\".format(num))\n",
    "        else:\n",
    "            print(\"{} is not a prime number\".format(num))\n",
    "    else:\n",
    "        print(\"You must provide a number greater than one\")\n",
    "except:\n",
    "    print(\"Must provide only integer greater than one\")"
   ]
  },
  {
   "cell_type": "markdown",
   "metadata": {},
   "source": [
    "# Question 6"
   ]
  },
  {
   "cell_type": "code",
   "execution_count": 44,
   "metadata": {},
   "outputs": [
    {
     "name": "stdout",
     "output_type": "stream",
     "text": [
      "Enter item purchased from the market or type quit to exit: balls\n",
      "Enter quantity of item purchased: 12\n",
      "Enter item purchased from the market or type quit to exit: bats\n",
      "Enter quantity of item purchased: 1\n",
      "Enter item purchased from the market or type quit to exit: balls\n",
      "Enter quantity of item purchased: 2\n",
      "Enter item purchased from the market or type quit to exit: apples\n",
      "Enter quantity of item purchased: 29\n",
      "Enter item purchased from the market or type quit to exit: oranges\n",
      "Enter quantity of item purchased: 40\n",
      "Enter item purchased from the market or type quit to exit: shades\n",
      "Enter quantity of item purchased: 1\n",
      "Enter item purchased from the market or type quit to exit: quit\n",
      "You have bought 14 balls\n",
      "You have bought 1 bats\n",
      "You have bought 29 apples\n",
      "You have bought 40 oranges\n",
      "You have bought 1 shades\n"
     ]
    }
   ],
   "source": [
    "def item_list(shop_list):\n",
    "    for item, value in shop_list.items():\n",
    "        print(\"You have bought {} {}\".format(value, item))\n",
    "\n",
    "shop_list = {}\n",
    "while True:\n",
    "    item = input(\"Enter item purchased from the market or type quit to exit: \")\n",
    "    if item == \"quit\":\n",
    "        break\n",
    "    else:\n",
    "        try:\n",
    "            quantity = int(input(\"Enter quantity of item purchased: \"))\n",
    "            if quantity <=0:\n",
    "                print(\"Must enter positive integer above zero to record quantities\")\n",
    "                break\n",
    "        except:\n",
    "            print(\"Must enter positive integer to record quantities\")\n",
    "            break\n",
    "    if item in shop_list.keys():\n",
    "        shop_list[item] = shop_list[item] + quantity\n",
    "    else:\n",
    "        shop_list[item] = quantity\n",
    "    \n",
    "item_list(shop_list)\n",
    "#Alternative\n",
    "#def items_list(*shop_list):\n",
    "#    for item in shop_list:\n",
    "#        print(\"You have bought {}\".format(item))\n",
    "\n",
    "#items_list(\"Apple\",\"Grapes\",\"Bananas\",\"Peers\")\n",
    "#print(\"---------------\")\n",
    "#items_list(\"Balls\",\"Bats\",\"Shades\",\"Pens\",\"Pencils\",\"Pads\")"
   ]
  }
 ],
 "metadata": {
  "kernelspec": {
   "display_name": "Python 3",
   "language": "python",
   "name": "python3"
  },
  "language_info": {
   "codemirror_mode": {
    "name": "ipython",
    "version": 3
   },
   "file_extension": ".py",
   "mimetype": "text/x-python",
   "name": "python",
   "nbconvert_exporter": "python",
   "pygments_lexer": "ipython3",
   "version": "3.7.4"
  }
 },
 "nbformat": 4,
 "nbformat_minor": 2
}
