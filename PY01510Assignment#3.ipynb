{
 "cells": [
  {
   "cell_type": "markdown",
   "metadata": {},
   "source": [
    "# Question 1"
   ]
  },
  {
   "cell_type": "code",
   "execution_count": 17,
   "metadata": {},
   "outputs": [
    {
     "name": "stdout",
     "output_type": "stream",
     "text": [
      "1) Addition\n",
      "2) Subtraction\n",
      "3) Divison\n",
      "4) Multiplication\n",
      "5) Power of Value\n",
      "6) Exit\n",
      "\n",
      "Enter the function you want to perform: 4\n",
      "Enter the first number: 4\n",
      "enter the second number: 4\n",
      "The multiplication of 4 and 4 is 16\n"
     ]
    }
   ],
   "source": [
    "# It works in py file\n",
    "def func(v1, v2, v3):\n",
    "    if v1 == \"1\":\n",
    "        ans = v2 + v3\n",
    "    elif v1 == \"2\":\n",
    "        ans = v2 - v3\n",
    "    elif v1 == \"3\":\n",
    "        ans = v2 / v3\n",
    "    elif v1 == \"4\":\n",
    "        ans = v2 * v3\n",
    "    else:\n",
    "        ans = v2 ** v3\n",
    "    if ans  == int(ans):\n",
    "        return (int(ans), int(v2),int(v3))\n",
    "    else:\n",
    "        return (ans, v2, v3)\n",
    "\n",
    "def func2(opr):    \n",
    "    cond = True\n",
    "    while cond:\n",
    "        try:\n",
    "            op1 = float(input(\"Enter the first number: \"))\n",
    "            cond = False\n",
    "        except:\n",
    "            print(\"Please enter numeric values only\")\n",
    "            continue\n",
    "    while not cond:\n",
    "        try:\n",
    "            op2 = float(input(\"enter the second number: \"))\n",
    "            if opr == \"3\":\n",
    "                if op2 == 0:\n",
    "                    print(\"Division cannot be perform with 0\")\n",
    "                    continue\n",
    "            break\n",
    "        except:\n",
    "            print(\"Please enter numeric values only\")\n",
    "            continue\n",
    "    return (opr, op1, op2)\n",
    "\n",
    "operator = {\"1\":\"additon\",\"2\":\"subtraction\",\"3\":\"division\",\"4\":\"multiplication\",\"5\":\"power\",\"6\":\"exit\"}\n",
    "print(\"1) Addition\\n2) Subtraction\\n3) Divison\\n4) Multiplication\\n5) Power of Value\\n6) Exit\\n\")\n",
    "\n",
    "cond = True\n",
    "while cond:\n",
    "    opr = input(\"Enter the function you want to perform: \")\n",
    "    if opr in operator.keys():\n",
    "        if opr != \"6\":\n",
    "            values = func2(opr)\n",
    "            break\n",
    "        else:\n",
    "            print(\"You have choose to quit\")\n",
    "            cond = False\n",
    "    else:\n",
    "        print(\"Enter the options given above\")\n",
    "        continue\n",
    "\n",
    "if opr != \"6\":\n",
    "    result = func(values[0],values[1], values[2])\n",
    "    print(\"The\",operator[opr],\"of\", result[1], \"and\", result[2], \"is\", result[0])"
   ]
  },
  {
   "cell_type": "markdown",
   "metadata": {},
   "source": [
    "# Question 2"
   ]
  },
  {
   "cell_type": "code",
   "execution_count": 11,
   "metadata": {},
   "outputs": [
    {
     "name": "stdout",
     "output_type": "stream",
     "text": [
      "1 is numeric value\n",
      "4 is numeric value\n",
      "6 is numeric value\n",
      "9.2 is numeric value\n"
     ]
    }
   ],
   "source": [
    "lst = [\"a\",1,\"b\",\"c\",4,\"5\",6,\"f\",\"7\",\"8\",9.2]\n",
    "for i in lst:\n",
    "    if isinstance(i, (int, float)):\n",
    "        print(i,\"is numeric value\")"
   ]
  },
  {
   "cell_type": "markdown",
   "metadata": {},
   "source": [
    "# Question 3"
   ]
  },
  {
   "cell_type": "code",
   "execution_count": 10,
   "metadata": {},
   "outputs": [
    {
     "name": "stdout",
     "output_type": "stream",
     "text": [
      "{'a': 'Apple'}\n",
      "{'a': 'Apple', 'b': 'Banana', 'c': 'Carrot'}\n",
      "enter key for dictionary: d\n",
      "enter value for dictionary: dog\n",
      "{'a': 'Apple', 'b': 'Banana', 'c': 'Carrot', 'd': 'dog'}\n"
     ]
    }
   ],
   "source": [
    "dict= {}\n",
    "dict [\"a\"] = \"Apple\"\n",
    "print(dict)\n",
    "dict.update({\"b\":\"Banana\",\"c\":\"Carrot\"})\n",
    "print(dict)\n",
    "k = input(\"enter key for dictionary: \")\n",
    "v = input(\"enter value for dictionary: \")\n",
    "dict[k] = v\n",
    "print(dict)"
   ]
  },
  {
   "cell_type": "markdown",
   "metadata": {},
   "source": [
    "# Question 4"
   ]
  },
  {
   "cell_type": "code",
   "execution_count": 9,
   "metadata": {},
   "outputs": [
    {
     "name": "stdout",
     "output_type": "stream",
     "text": [
      "20.2\n"
     ]
    }
   ],
   "source": [
    "dict1 = {\"v1\":\"a\",\"v2\": 1,\"v3\": \"b\",\"v4\": \"c\",\"v5\": 4,\"v6\": \"5\",\"v7\": 6,\"v8\": \"f\",\"v9\": \"7\",\"v10\": \"8\",\"v11\": 9.2}\n",
    "sum1 = 0\n",
    "for k in dict1:\n",
    "    if isinstance(dict1[k], (int,float)):\n",
    "        sum1 += dict1[k]\n",
    "print(sum1)"
   ]
  },
  {
   "cell_type": "markdown",
   "metadata": {},
   "source": [
    "# Question 5"
   ]
  },
  {
   "cell_type": "code",
   "execution_count": 3,
   "metadata": {},
   "outputs": [
    {
     "name": "stdout",
     "output_type": "stream",
     "text": [
      "1 is duplicate\n",
      "3 is not duplicate\n",
      "5 is duplicate\n",
      "6 is not duplicate\n",
      "a is duplicate\n",
      "b is not duplicate\n"
     ]
    }
   ],
   "source": [
    "lst = [1,3,1,5,6,5,\"a\",\"b\",\"a\"]\n",
    "slst = set(lst)\n",
    "for i in slst:\n",
    "    if lst.count(i) > 1:\n",
    "        print(i,\"is duplicate\")\n",
    "    else:\n",
    "        print(i, \"is not duplicate\")"
   ]
  },
  {
   "cell_type": "markdown",
   "metadata": {},
   "source": [
    "# Question 6"
   ]
  },
  {
   "cell_type": "code",
   "execution_count": 2,
   "metadata": {},
   "outputs": [
    {
     "name": "stdout",
     "output_type": "stream",
     "text": [
      "enter key to check if exist in dictionary: f\n",
      "Key does not exist\n"
     ]
    }
   ],
   "source": [
    "dict1 = {\"a\":1,\"b\":2,\"c\":3,\"d\":4}\n",
    "k = input(\"enter key to check if exist in dictionary: \")\n",
    "if k in dict1.keys():\n",
    "    print(\"Key already exist in the dictionary\")\n",
    "else:\n",
    "    print(\"Key does not exist\")"
   ]
  },
  {
   "cell_type": "code",
   "execution_count": null,
   "metadata": {},
   "outputs": [],
   "source": []
  }
 ],
 "metadata": {
  "kernelspec": {
   "display_name": "Python 3",
   "language": "python",
   "name": "python3"
  },
  "language_info": {
   "codemirror_mode": {
    "name": "ipython",
    "version": 3
   },
   "file_extension": ".py",
   "mimetype": "text/x-python",
   "name": "python",
   "nbconvert_exporter": "python",
   "pygments_lexer": "ipython3",
   "version": "3.7.4"
  }
 },
 "nbformat": 4,
 "nbformat_minor": 2
}
