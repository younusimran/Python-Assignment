{
 "cells": [
  {
   "cell_type": "markdown",
   "metadata": {},
   "source": [
    "# Queston 1"
   ]
  },
  {
   "cell_type": "code",
   "execution_count": 1,
   "metadata": {},
   "outputs": [
    {
     "name": "stdout",
     "output_type": "stream",
     "text": [
      "Twinkle, twinkle, little star,\n",
      "\tHow I wonder what your!\n",
      "\t\tUp above the world so high,\n",
      "\t\tLike a diamond in the sky,\n",
      "Twinkle, twinkle, little star,\n",
      "\tHow I wonder what you are\n"
     ]
    }
   ],
   "source": [
    "print(\"Twinkle, twinkle, little star,\\n\\t\\\n",
    "How I wonder what your!\\n\\t\\t\\\n",
    "Up above the world so high,\\n\\t\\t\\\n",
    "Like a diamond in the sky,\\n\\\n",
    "Twinkle, twinkle, little star,\\n\\t\\\n",
    "How I wonder what you are\")"
   ]
  },
  {
   "cell_type": "markdown",
   "metadata": {},
   "source": [
    "# Question 2"
   ]
  },
  {
   "cell_type": "code",
   "execution_count": 2,
   "metadata": {},
   "outputs": [
    {
     "name": "stdout",
     "output_type": "stream",
     "text": [
      "3.7.4 (tags/v3.7.4:e09359112e, Jul  8 2019, 20:34:20) [MSC v.1916 64 bit (AMD64)]\n"
     ]
    }
   ],
   "source": [
    "import sys\n",
    "print(sys.version)"
   ]
  },
  {
   "cell_type": "markdown",
   "metadata": {},
   "source": [
    "# Question 3"
   ]
  },
  {
   "cell_type": "code",
   "execution_count": 3,
   "metadata": {},
   "outputs": [
    {
     "name": "stdout",
     "output_type": "stream",
     "text": [
      "Date = November 17, 2019\n",
      "Time =  20:59:08\n"
     ]
    }
   ],
   "source": [
    "from datetime import datetime\n",
    "today = datetime.now()\n",
    "print(today.strftime(\"Date = %B %d, %Y\\nTime =  %H:%M:%S\"))"
   ]
  },
  {
   "cell_type": "markdown",
   "metadata": {},
   "source": [
    "# Question 4"
   ]
  },
  {
   "cell_type": "code",
   "execution_count": 5,
   "metadata": {},
   "outputs": [
    {
     "name": "stdout",
     "output_type": "stream",
     "text": [
      "enter a radius to compute area of the circle: 3\n",
      "Area of a circle for a radius of  3.0  is:  28.274333882308138\n"
     ]
    }
   ],
   "source": [
    "from math import pi\n",
    "radius = float(input(\"enter a radius to compute area of the circle: \"))\n",
    "area = pi*pow(radius,2)\n",
    "print(\"Area of a circle for a radius of \",radius,\" is: \",area)"
   ]
  },
  {
   "cell_type": "markdown",
   "metadata": {},
   "source": [
    "# Question 5"
   ]
  },
  {
   "cell_type": "code",
   "execution_count": 6,
   "metadata": {},
   "outputs": [
    {
     "name": "stdout",
     "output_type": "stream",
     "text": [
      "enter your first name: Imran\n",
      "enter your last name: Younus\n",
      "Younus  Imran\n"
     ]
    }
   ],
   "source": [
    "Fname = input(\"enter your first name: \")\n",
    "Lname = input(\"enter your last name: \")\n",
    "print(Lname,\"\",Fname)"
   ]
  },
  {
   "cell_type": "markdown",
   "metadata": {},
   "source": [
    "# Question 6"
   ]
  },
  {
   "cell_type": "code",
   "execution_count": 7,
   "metadata": {},
   "outputs": [
    {
     "name": "stdout",
     "output_type": "stream",
     "text": [
      "Enter a first number: 1\n",
      "Enter a second number: 2\n",
      "Addition of  1.0  &  2.0  is  3.0\n"
     ]
    }
   ],
   "source": [
    "num1 = float(input(\"Enter a first number: \"))\n",
    "num2 = float(input(\"Enter a second number: \"))\n",
    "print(\"Addition of \",num1,\" & \",num2,\" is \",num1+num2)"
   ]
  }
 ],
 "metadata": {
  "kernelspec": {
   "display_name": "Python 3",
   "language": "python",
   "name": "python3"
  },
  "language_info": {
   "codemirror_mode": {
    "name": "ipython",
    "version": 3
   },
   "file_extension": ".py",
   "mimetype": "text/x-python",
   "name": "python",
   "nbconvert_exporter": "python",
   "pygments_lexer": "ipython3",
   "version": "3.7.4"
  }
 },
 "nbformat": 4,
 "nbformat_minor": 2
}
