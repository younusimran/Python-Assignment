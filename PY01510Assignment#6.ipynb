{
 "cells": [
  {
   "cell_type": "markdown",
   "metadata": {},
   "source": [
    "# Question 1"
   ]
  },
  {
   "cell_type": "markdown",
   "metadata": {},
   "source": [
    "\n",
    "OOP is an approach to solve a programming problem by creating objects. One of the concept of OOP is to create a reusable code.\n",
    "This concept is also called DRY (D'ont Repeat Yourself). In OOP programmer define data type of data structure as well\n",
    "as the operations (functions) that can be performed to the data structure.\n"
   ]
  },
  {
   "cell_type": "markdown",
   "metadata": {},
   "source": [
    "# Question 2"
   ]
  },
  {
   "cell_type": "markdown",
   "metadata": {},
   "source": [
    "1) OOP create a module that do not need to be changed when new type object is added.\n",
    "2) A programmer can simply create new object that can inheirt features from the existing objects.\n",
    "3) OOP is an approach for modelling real world things as well as relation between things\n",
    "4) lower the cost of development by providing reusable codes.\n",
    "5) Good for defining abstract data type\n",
    "6) better memory utilisation"
   ]
  },
  {
   "cell_type": "markdown",
   "metadata": {},
   "source": [
    "# Question 3"
   ]
  },
  {
   "cell_type": "markdown",
   "metadata": {},
   "source": [
    "Function: Function is a sequence of statements that execute in a certain order. They enable to implement code reusability. Sometimes they also called subroutines and procedures.\n",
    "Method. Method are similar to function but they are attached to object. Methods are called on an object and possibly make changes to an object. They are defined inside the class and belong to it. Methods are used to define the behavior of object."
   ]
  },
  {
   "cell_type": "markdown",
   "metadata": {},
   "source": [
    "# Question 4"
   ]
  },
  {
   "cell_type": "markdown",
   "metadata": {},
   "source": [
    "class: Class is a category of objects. The class defines all the common properties of the different objects that belong to it. This is also termed as blueprint for the object.\n",
    "Object: a self-contained entity that consists of both data and procedures to manipulate the data. it is an instantiation of the class. when a class is defined only the description of the object is defined.\n",
    "Attribute: Attributes are defined as a characteristics of an object. such as name, age, color, etc.\n",
    "Behavior: Behavior are actions that can occur on an object e.g. driving, dancing, slowly, etc. Behavior can be performed on specific class of object by defining method."
   ]
  },
  {
   "cell_type": "markdown",
   "metadata": {},
   "source": [
    "# Question 5"
   ]
  },
  {
   "cell_type": "code",
   "execution_count": 19,
   "metadata": {},
   "outputs": [
    {
     "name": "stdout",
     "output_type": "stream",
     "text": [
      "Model: 2004, Color: Blue, Name: Honda City, Speed: 60, Transmission: Automatic\n",
      "The speed of the car increased to: 65\n",
      "The speed of the car increased to: 70\n",
      "The speed of the car increased to: 75\n",
      "The speed of the car increased to: 80\n",
      "The speed of the car increased to: 85\n",
      "The speed of the car decreased to: 80\n",
      "The speed of the car decreased to: 75\n",
      "The speed of the car decreased to: 70\n",
      "The speed of the car decreased to: 65\n",
      "The speed of the car decreased to: 60\n",
      "Model: 2006, Color: Black, Name: Honda Civic, Speed: 50, Transmission: Automatic\n",
      "Model: 2007, Color: White, Name: Suzuki Bolan, Speed: 39, Transmission: Manual\n",
      "Model: 2010, Color: Green, Name: Toyota Corolla Gli, Speed: 60, Transmission: Manual\n",
      "Model: 2018, Color: Silver, Name: Toyota Corolla Altis, Speed: 55, Transmission: Automatic\n"
     ]
    }
   ],
   "source": [
    "class Car:\n",
    "    def __init__(self, model, color, name, speed, gears):\n",
    "        self.model = model\n",
    "        self.color = color\n",
    "        self.name = name\n",
    "        self.speed = speed\n",
    "        self.gears = gears\n",
    "    \n",
    "    def __str__(self):\n",
    "        return (\"Model: {}, Color: {}, Name: {}, Speed: {}, Transmission: {}\".format(self.model, self.color, self.name, self.speed, self.gears))\n",
    "    \n",
    "    def accelerate(self):\n",
    "        self.speed += 5\n",
    "        \n",
    "    def get_speed(self):\n",
    "        return self.speed\n",
    "    \n",
    "    def brake(self):\n",
    "        self.speed -= 5\n",
    "\n",
    "car1 = Car(\"2004\", \"Blue\", \"Honda City\", 60, \"Automatic\") # object instance 1\n",
    "print(car1)\n",
    "for i in range(5):\n",
    "    car1.accelerate()\n",
    "    print(\"The speed of the car increased to: {}\".format(car1.get_speed()))\n",
    "for i in range(5):\n",
    "    car1.brake()\n",
    "    print(\"The speed of the car decreased to: {}\".format(car1.get_speed()))\n",
    "car2 = Car(\"2006\", \"Black\", \"Honda Civic\", 50, \"Automatic\") # object instance 2\n",
    "car3 = Car(\"2007\", \"White\", \"Suzuki Bolan\", 39, \"Manual\") # object instance 3\n",
    "car4 = Car(\"2010\", \"Green\", \"Toyota Corolla Gli\", 60, \"Manual\") # object instance 4\n",
    "car5 = Car(\"2018\", \"Silver\", \"Toyota Corolla Altis\", 55, \"Automatic\") # object instance 5\n",
    "print(car2)\n",
    "print(car3)\n",
    "print(car4)\n",
    "print(car5)"
   ]
  }
 ],
 "metadata": {
  "kernelspec": {
   "display_name": "Python 3",
   "language": "python",
   "name": "python3"
  },
  "language_info": {
   "codemirror_mode": {
    "name": "ipython",
    "version": 3
   },
   "file_extension": ".py",
   "mimetype": "text/x-python",
   "name": "python",
   "nbconvert_exporter": "python",
   "pygments_lexer": "ipython3",
   "version": "3.7.4"
  }
 },
 "nbformat": 4,
 "nbformat_minor": 2
}
