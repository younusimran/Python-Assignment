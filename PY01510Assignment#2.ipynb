{
 "cells": [
  {
   "cell_type": "markdown",
   "metadata": {},
   "source": [
    "# Question 1"
   ]
  },
  {
   "cell_type": "code",
   "execution_count": 41,
   "metadata": {},
   "outputs": [
    {
     "name": "stdout",
     "output_type": "stream",
     "text": [
      "Enter marks obtained in Science: 0\n",
      "Enter marks obtained in Islamiat: 0\n",
      "Enter marks obtained in Maths: 0\n",
      "Enter marks obtained in English: 0\n",
      "Enter marks obtained in Urdu: 0\n",
      "You are fail\n"
     ]
    }
   ],
   "source": [
    "try:\n",
    "    s1 = float(input(\"Enter marks obtained in Science: \"))\n",
    "    s2 = float(input(\"Enter marks obtained in Islamiat: \"))\n",
    "    s3 = float(input(\"Enter marks obtained in Maths: \"))\n",
    "    s4 = float(input(\"Enter marks obtained in English: \"))\n",
    "    s5 = float(input(\"Enter marks obtained in Urdu: \"))\n",
    "    per = round(((s1+s2+s3+s4+s5)/500)*100,2)\n",
    "\n",
    "    if per >= 80 and per <=100:\n",
    "        grade = \"A+\"\n",
    "    elif per >=70 and per < 80:\n",
    "        grade = \"A\"\n",
    "    elif per >=60 and per < 70:\n",
    "        grade = \"B\"\n",
    "    elif per >=50 and per < 60:\n",
    "        grade = \"C\"\n",
    "    elif per >=40 and per < 50:\n",
    "        grade = \"D\"\n",
    "    elif per >=33 and per < 40:\n",
    "        grade = \"E\"\n",
    "    else:\n",
    "        grade = \"Fail\"\n",
    "\n",
    "    if grade != \"Fail\":\n",
    "        print(\"You have obtained \", per, \" percent marks and grade \",grade)\n",
    "    else:\n",
    "        print(\"You are fail\") \n",
    "except:\n",
    "    print(\"Marks obtained should be number\")"
   ]
  },
  {
   "cell_type": "markdown",
   "metadata": {},
   "source": [
    "# Question 2"
   ]
  },
  {
   "cell_type": "code",
   "execution_count": 39,
   "metadata": {},
   "outputs": [
    {
     "name": "stdout",
     "output_type": "stream",
     "text": [
      "Enter a positive integer: 4\n",
      "Number:  4 is even number\n"
     ]
    }
   ],
   "source": [
    "try:\n",
    "    num = int(input(\"Enter a positive integer: \"))\n",
    "    if num > 0:\n",
    "        if num % 2 == 0:\n",
    "            print(\"Number: \",num,\"is even number\")\n",
    "        else:\n",
    "            print(\"Number: \",num,\"is odd number\")\n",
    "    else:\n",
    "        print(\"enter positive number greater than 0\")\n",
    "except:\n",
    "    print(\"enter a positve integer greater than 0\")"
   ]
  },
  {
   "cell_type": "markdown",
   "metadata": {},
   "source": [
    "# Question 3"
   ]
  },
  {
   "cell_type": "code",
   "execution_count": 24,
   "metadata": {},
   "outputs": [
    {
     "name": "stdout",
     "output_type": "stream",
     "text": [
      "Enter element(s) for list: asad\n",
      "The lenght of the list is:  4\n"
     ]
    }
   ],
   "source": [
    "lst = input(\"Enter element(s) for list: \")\n",
    "lst = list(lst)\n",
    "print(\"The lenght of the list is: \",len(lst))"
   ]
  },
  {
   "cell_type": "markdown",
   "metadata": {},
   "source": [
    "# Question 4"
   ]
  },
  {
   "cell_type": "code",
   "execution_count": 25,
   "metadata": {},
   "outputs": [
    {
     "name": "stdout",
     "output_type": "stream",
     "text": [
      "26\n"
     ]
    }
   ],
   "source": [
    "lst = [3,5,4,6,1,7]\n",
    "print(sum(lst))"
   ]
  },
  {
   "cell_type": "markdown",
   "metadata": {},
   "source": [
    "# Question 4 Alternative"
   ]
  },
  {
   "cell_type": "code",
   "execution_count": 32,
   "metadata": {},
   "outputs": [
    {
     "name": "stdout",
     "output_type": "stream",
     "text": [
      "enter elements for list: abcd&#@-1234\n",
      "The sum of numeric value in  ['a', 'b', 'c', 'd', '&', '#', '@', '-', '1', '2', '3', '4']  is:  10\n"
     ]
    }
   ],
   "source": [
    "lst = input(\"enter elements for list: \")\n",
    "lst=list(lst)\n",
    "code = 0\n",
    "for char in lst:\n",
    "    try:\n",
    "        num = int(char)\n",
    "        code += num\n",
    "    except:\n",
    "        continue\n",
    "if code != 0:\n",
    "    print(\"The sum of numeric value in \", lst,\" is: \",code)\n",
    "else:\n",
    "    print(\"No numeric value entered to sum\")"
   ]
  },
  {
   "cell_type": "markdown",
   "metadata": {},
   "source": [
    "# Question 5"
   ]
  },
  {
   "cell_type": "code",
   "execution_count": 33,
   "metadata": {},
   "outputs": [
    {
     "name": "stdout",
     "output_type": "stream",
     "text": [
      "Maximum number in list is:  987\n"
     ]
    }
   ],
   "source": [
    "nlist=[1,5,3,98,8,112,2,760,876,987,576]\n",
    "print(\"Maximum number in list is: \",max(nlist))"
   ]
  },
  {
   "cell_type": "markdown",
   "metadata": {},
   "source": [
    "# Question 6"
   ]
  },
  {
   "cell_type": "code",
   "execution_count": 40,
   "metadata": {},
   "outputs": [
    {
     "name": "stdout",
     "output_type": "stream",
     "text": [
      "1 1 2 3 "
     ]
    }
   ],
   "source": [
    "nlist=[1,1,2,3,5,8,13,21,34,55,89]\n",
    "for num in nlist:\n",
    "    if num < 5:\n",
    "        print(num, end=\" \") # or print(num)\n"
   ]
  }
 ],
 "metadata": {
  "kernelspec": {
   "display_name": "Python 3",
   "language": "python",
   "name": "python3"
  },
  "language_info": {
   "codemirror_mode": {
    "name": "ipython",
    "version": 3
   },
   "file_extension": ".py",
   "mimetype": "text/x-python",
   "name": "python",
   "nbconvert_exporter": "python",
   "pygments_lexer": "ipython3",
   "version": "3.7.4"
  }
 },
 "nbformat": 4,
 "nbformat_minor": 2
}
